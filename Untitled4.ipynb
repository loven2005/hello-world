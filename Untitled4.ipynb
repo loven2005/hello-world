{
  "nbformat": 4,
  "nbformat_minor": 0,
  "metadata": {
    "colab": {
      "name": "Untitled4.ipynb",
      "provenance": [],
      "collapsed_sections": [],
      "authorship_tag": "ABX9TyMY8oIxAKd0v/3ESHsCbmgZ",
      "include_colab_link": true
    },
    "kernelspec": {
      "name": "python3",
      "display_name": "Python 3"
    }
  },
  "cells": [
    {
      "cell_type": "markdown",
      "metadata": {
        "id": "view-in-github",
        "colab_type": "text"
      },
      "source": [
        "<a href=\"https://colab.research.google.com/github/loven2005/hello-world/blob/main/Untitled4.ipynb\" target=\"_parent\"><img src=\"https://colab.research.google.com/assets/colab-badge.svg\" alt=\"Open In Colab\"/></a>"
      ]
    },
    {
      "cell_type": "code",
      "metadata": {
        "id": "lHYmE37F7JFI"
      },
      "source": [
        "num=9417064466\r\n",
        "l=list(str(num))\r\n",
        "def solve(n,lookup={}):\r\n",
        "    if n<=2:\r\n",
        "        return 1\r\n",
        "    if n not in lookup:\r\n",
        "        lookup[n]= solve(n-1)+solve(n-2)\r\n",
        "    return lookup[n]\r\n",
        "print(solve(int(input())))\r\n"
      ],
      "execution_count": null,
      "outputs": []
    },
    {
      "cell_type": "code",
      "metadata": {
        "colab": {
          "base_uri": "https://localhost:8080/"
        },
        "id": "PJEtF5dPFsL1",
        "outputId": "7fdd3fb1-d4a8-46da-d5fc-bab69f794c43"
      },
      "source": [
        "def knapsack(w,wt,v,n):\r\n",
        "    if n==0 or w==0:\r\n",
        "        return 0\r\n",
        "    if wt[n-1]>w:\r\n",
        "        return knapsnack(w,wt,v,n-1)\r\n",
        "    else:\r\n",
        "        return max(v[n-1]+knapsack(w-wt[n-1],wt,v,n-1),knapsack(w,wt,v,n-1))\r\n",
        "v = [60, 100, 120] \r\n",
        "wt = [10, 20, 30] \r\n",
        "w= 50\r\n",
        "n = len(v) \r\n",
        "print (knapsack(w, wt, v, n) )\r\n",
        "    "
      ],
      "execution_count": 12,
      "outputs": [
        {
          "output_type": "stream",
          "text": [
            "220\n"
          ],
          "name": "stdout"
        }
      ]
    },
    {
      "cell_type": "code",
      "metadata": {
        "colab": {
          "base_uri": "https://localhost:8080/"
        },
        "id": "p1zdc8FqPE9f",
        "outputId": "56abd0a7-4942-4081-da44-388d5d0974f4"
      },
      "source": [
        "def val(n,k,p):\r\n",
        "    lo=[[0 for i in range(n+1)] for j in range(p+1)]\r\n",
        "    ar=[]\r\n",
        "    arr=[]\r\n",
        "    for i in range(n):\r\n",
        "        row = input().split(' ')\r\n",
        "        for i in range(len(row)):\r\n",
        "            row[i] = int(row[i])\r\n",
        "        ar.append(row)\r\n",
        "    \r\n",
        "    for i in ar:\r\n",
        "        s=0\r\n",
        "        l=[]\r\n",
        "        for j in i:\r\n",
        "            s=s+j\r\n",
        "            l.append(s)\r\n",
        "        arr.append(l)\r\n",
        "    \r\n",
        "    m=0\r\n",
        "    for i in range(0,n):\r\n",
        "        for j in range(p):\r\n",
        "            lo[i][j]=0\r\n",
        "            x=0\r\n",
        "            while x<=min(j,k):\r\n",
        "               lo[i][j]=max(lo[i][j],arr[i][x]+lo[i-1][j-x])\r\n",
        "               x+=1\r\n",
        "    print(lo)\r\n",
        "    return lo[n][p]\r\n",
        "\r\n",
        "\r\n",
        "a=int(input())\r\n",
        "for h in range(a):\r\n",
        "   n,k,p=[int(x) for x in input().split()]\r\n",
        "   print(val(n,k,p))\r\n"
      ],
      "execution_count": 24,
      "outputs": [
        {
          "output_type": "stream",
          "text": [
            "1\n",
            "2 2 2\n",
            "1 2\n",
            "3 4\n",
            "[[1, 3, 0], [4, 8, 0], [0, 0, 0]]\n",
            "0\n"
          ],
          "name": "stdout"
        }
      ]
    },
    {
      "cell_type": "code",
      "metadata": {
        "colab": {
          "base_uri": "https://localhost:8080/"
        },
        "id": "B0xp494TG61W",
        "outputId": "080ffa95-bc35-4157-cb74-aef9fd8975e2"
      },
      "source": [
        "def main():\r\n",
        "    def recursion(stack_ith, plate_needed):\r\n",
        "        # base case \r\n",
        "        if stack_ith >= num_stacks or plate_needed <= 0: \r\n",
        "            return 0 \r\n",
        "        \r\n",
        "        if lookup_table[stack_ith][plate_needed]:\r\n",
        "            return lookup_table[stack_ith][plate_needed]\r\n",
        "\r\n",
        "        # recusrive case \r\n",
        "        current_max = 0\r\n",
        "        for l in range(0, min(plate_needed, num_plates_per_stack) + 1):\r\n",
        "            temp = recursion(stack_ith + 1, plate_needed - l)\r\n",
        "            if l > 0:\r\n",
        "                temp += plate_piles[stack_ith][l-1]\r\n",
        "            current_max = max(current_max, temp)\r\n",
        "        lookup_table[stack_ith][plate_needed] = current_max\r\n",
        "        return current_max\r\n",
        "\r\n",
        "    T = int(input()) # number of testcases\r\n",
        "    for i in range(1, T + 1):\r\n",
        "        N, K, P = [int(s) for s in input().split(\" \")] #\r\n",
        "\r\n",
        "        num_stacks = N \r\n",
        "        num_plates_per_stack = K \r\n",
        "        num_req_plates = P\r\n",
        "\r\n",
        "        plate_piles = []\r\n",
        "        \r\n",
        "        for j in range(num_stacks):\r\n",
        "            pile = []\r\n",
        "            current = 0 \r\n",
        "            for s in input().split(\" \"):\r\n",
        "                current += int(s)\r\n",
        "                pile.append(current)\r\n",
        "            plate_piles.append(pile)\r\n",
        "\r\n",
        "        lookup_table = [[0]*(num_req_plates + 1) for _ in range(num_stacks)]\r\n",
        "\r\n",
        "        result = recursion(0, num_req_plates)\r\n",
        "        print(\"Case #{}: {}\".format(i, result))\r\n",
        "\r\n",
        "\r\n",
        "if __name__ == \"__main__\":\r\n",
        "    main()"
      ],
      "execution_count": 12,
      "outputs": [
        {
          "output_type": "stream",
          "text": [
            "1\n",
            "2 2 2\n",
            "1 2\n",
            "3 4\n",
            "Case #1: 7\n"
          ],
          "name": "stdout"
        }
      ]
    }
  ]
}